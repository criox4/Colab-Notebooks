{
  "nbformat": 4,
  "nbformat_minor": 0,
  "metadata": {
    "colab": {
      "name": "VSCode Remote Jupyter Notebook.ipynb",
      "provenance": [],
      "collapsed_sections": [],
      "authorship_tag": "ABX9TyP2/3XS0QE6O2clS8Z03dC5",
      "include_colab_link": true
    },
    "kernelspec": {
      "name": "python3",
      "display_name": "Python 3"
    },
    "language_info": {
      "name": "python"
    }
  },
  "cells": [
    {
      "cell_type": "markdown",
      "metadata": {
        "id": "view-in-github",
        "colab_type": "text"
      },
      "source": [
        "<a href=\"https://colab.research.google.com/github/criox4/Colab-Notebooks/blob/main/VSCode_Remote_Jupyter_Notebook.ipynb\" target=\"_parent\"><img src=\"https://colab.research.google.com/assets/colab-badge.svg\" alt=\"Open In Colab\"/></a>"
      ]
    },
    {
      "cell_type": "markdown",
      "metadata": {
        "id": "1hkkffzCM5_D"
      },
      "source": [
        "# **VSCODE REMOTE JUPYTER NOTEBOOK**\n",
        "\n",
        "Created With 💖 by ***Ashutosh Pradhan*** . **Github** :   [criox4](https://github.com/criox4/)\n",
        "\n",
        "You can use any one of the methods listed below to have a remove jypyter server running off **Google's Server** .\n",
        "\n",
        "Use the computing power of the Google servers instead of your own machine. Running python scripts requires often a lot of computing power and can take time. So, Why not use Google's server?\n",
        "\n",
        "You can perform as many tensorflow operations without your system taking a toll. :)\n",
        "\n",
        "**P.S. Perform the Steps serially to not run into any errors.**\n"
      ]
    },
    {
      "cell_type": "markdown",
      "metadata": {
        "id": "YjP7dnGiTL6g"
      },
      "source": [
        "## **METHOD 1** (The Easiest)\n",
        "\n",
        "This method involves creating a Jupyter Notebook Server altogether and link it to Visual Studio Code. \n"
      ]
    },
    {
      "cell_type": "markdown",
      "metadata": {
        "id": "iYi7wcgATs45"
      },
      "source": [
        "*Step 1: Install jupyterlab and ngrok*"
      ]
    },
    {
      "cell_type": "code",
      "metadata": {
        "id": "j0xL58gDUCfK"
      },
      "source": [
        "!pip install jupyterlab==2.2.9 jupyter-client==6.1.5 pyngrok -q"
      ],
      "execution_count": null,
      "outputs": []
    },
    {
      "cell_type": "markdown",
      "metadata": {
        "id": "mg8Glwj1UXET"
      },
      "source": [
        "*Step 2: Run jupyterlab in background*"
      ]
    },
    {
      "cell_type": "code",
      "metadata": {
        "id": "25t0KyZ8Ufqz"
      },
      "source": [
        "!nohup jupyter lab --ip=0.0.0.0 &"
      ],
      "execution_count": null,
      "outputs": []
    },
    {
      "cell_type": "markdown",
      "metadata": {
        "id": "C0JYiGYJUkOY"
      },
      "source": [
        "*Step 3: Make jupyterlab accessible via ngrok*"
      ]
    },
    {
      "cell_type": "code",
      "metadata": {
        "id": "ESnJEyGNUhEZ"
      },
      "source": [
        "from pyngrok import ngrok\n",
        "print(ngrok.connect(8888))"
      ],
      "execution_count": null,
      "outputs": []
    },
    {
      "cell_type": "markdown",
      "metadata": {
        "id": "7UDZ8xCMYbZn"
      },
      "source": [
        "After this , A link will be generated like this : \n",
        "\n",
        "`NgrokTunnel: \"http://977fdfe9271e.ngrok.io\" -> \"http://localhost:8888\"`\n",
        "\n",
        "\n",
        "\n",
        "*   Create a new Jupyter notebook in vscode (Extension : .ipynb) \n",
        "*   In the Top Right Corner, Where it is written `Jupyter Server : local` , click on that to open a pop-up window as shown in image.\n",
        "https://i.imgur.com/dwyb07z.png\n",
        "*   Click on Existing and paste your `*.ngrok.io` link there and hit enter.\n",
        "\n",
        "*   It will ask to reload VSCode. After reloading, *Voila!* , U have your remote terminal. \n",
        "\n",
        "\n",
        "*   Happy Coding 😊\n",
        "\n",
        "Alternatively , You can paste that link into browser also to access the Jupyter Notebook (If u prefer doing so).\n",
        "\n",
        "\n",
        "\n",
        "\n"
      ]
    },
    {
      "cell_type": "markdown",
      "metadata": {
        "id": "ln1HnRpEaRLY"
      },
      "source": [
        "### Drawbacks of this Method: \n",
        "\n",
        "\n",
        "\n",
        "1.   GPU access to colab will not be there.\n",
        "2.   One has to upload project related files from Google Colab Window under files . \n",
        "\n"
      ]
    },
    {
      "cell_type": "markdown",
      "metadata": {
        "id": "AES69rMFeBQa"
      },
      "source": [
        "## **METHOD 2** (A bit Difficult)\n",
        "\n",
        "This Method involves SSH into google cloud and can be a bit complicated for novice users. We can use the GPU in this method. (usually Nvidia Quadro P1000 cards are alloted) \n",
        "\n",
        "Will be sharing the Steps As soon as Possible ( Few tweaks to be done ). Watchout for this step.\n"
      ]
    }
  ]
}